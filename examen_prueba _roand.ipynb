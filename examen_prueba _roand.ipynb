{
 "cells": [
  {
   "cell_type": "markdown",
   "id": "43753aa8",
   "metadata": {},
   "source": [
    "Escribe un script que calcule el precio de una entrada de cine basándose en la edad del cliente (un número) y si es_estudiante (un booleano). El precio \"Adulto General\" es de $12. Sin embargo, si la edad es 12 o menos, el precio es \"Infantil\" de $7. Si la edad es 65 o más, el precio es \"Senior\" de $8. Si la persona no es niño ni senior, pero es_estudiante es True, el precio es \"Estudiante\" de $9. Si no cumple ninguna de estas condiciones (es decir, es un adulto no estudiante entre 13 y 64 años), paga el precio \"Adulto General\". Tu script debe mostrar el precio final correcto."
   ]
  },
  {
   "cell_type": "code",
   "execution_count": null,
   "id": "f7b41901",
   "metadata": {},
   "outputs": [
    {
     "name": "stdout",
     "output_type": "stream",
     "text": [
      "pagas 12$ papa\n"
     ]
    }
   ],
   "source": [
    "edad = int(input(\"cual es tu edad papa: \"))\n",
    "estudiante =(input(\" ¿eres estudiante? si/no : \"))\n",
    "if edad >= 13 and edad <= 64 and estudiante.lower() == \"no\" :\n",
    "    print(\"pagas 12$ papa\")\n",
    "elif edad <= 12 and estudiante.lower() == \"no\"  :\n",
    "    print(\"pagas 7$ lukitas peque\")\n",
    "elif edad >= 65 and estudiante.lower() == \"no\" :\n",
    "    print(\"papa ya tercera edad pagas 8$\")\n",
    "elif  edad >= 13 and edad <= 64 and estudiante.lower() == \"si\" :\n",
    "    print(\"papa págas 9$ lukitas\")\n",
    "else :\n",
    "    print(\"pon la vaina bien mano\")"
   ]
  },
  {
   "cell_type": "markdown",
   "id": "7043ad6e",
   "metadata": {},
   "source": [
    "Crea un script que determine si un usuario puede acceder a un \"Nivel Secreto\" en un videojuego, basándose en puntos_acumulados (un número) y objeto_clave_obtenido (un booleano). Para acceder, el jugador debe tener más de 5000 puntos y tener el objeto clave. Si el jugador tiene el objeto clave pero no los puntos, debe mostrar el mensaje \"Te faltan puntos\". Si tiene más de 5000 puntos pero no el objeto, debe mostrar \"Te falta el objeto clave\". Si no tiene ninguna de las dos cosas, debe mostrar \"Sigue jugando\". Si cumple ambas condiciones, debe mostrar \"¡Acceso concedido al Nivel Secreto!\"."
   ]
  },
  {
   "cell_type": "code",
   "execution_count": null,
   "id": "a2853488",
   "metadata": {},
   "outputs": [
    {
     "ename": "_IncompleteInputError",
     "evalue": "incomplete input (680737159.py, line 9)",
     "output_type": "error",
     "traceback": [
      "  \u001b[36mCell\u001b[39m\u001b[36m \u001b[39m\u001b[32mIn[3]\u001b[39m\u001b[32m, line 9\u001b[39m\n\u001b[31m    \u001b[39m\u001b[31melse :\u001b[39m\n          ^\n\u001b[31m_IncompleteInputError\u001b[39m\u001b[31m:\u001b[39m incomplete input\n"
     ]
    }
   ],
   "source": [
    "puntos = int(input(\"cuantos puntos tienes papa : \"))\n",
    "objeto = input(\"¿cual es el objeto ssshhh? : \")\n",
    "if puntos == 5000 and objeto.lower() == \"bicho\" :\n",
    "    print(\"te abrimos las puertas de ano\")\n",
    "elif puntos == 5000 and objeto.lower() != \"bicho\" :\n",
    "    print(\"papa tiene los puntos pero te falta un objeto\")\n",
    "elif puntos != 5000 and objeto.lower() == \"bicho\" :\n",
    "    print(\"mira mano tienes el objeto pero papa te faltan los puntos\")\n",
    "else :\n",
    "    print(\"papa sigue echandole te falta\")"
   ]
  }
 ],
 "metadata": {
  "kernelspec": {
   "display_name": "Python 3",
   "language": "python",
   "name": "python3"
  },
  "language_info": {
   "codemirror_mode": {
    "name": "ipython",
    "version": 3
   },
   "file_extension": ".py",
   "mimetype": "text/x-python",
   "name": "python",
   "nbconvert_exporter": "python",
   "pygments_lexer": "ipython3",
   "version": "3.13.9"
  }
 },
 "nbformat": 4,
 "nbformat_minor": 5
}
